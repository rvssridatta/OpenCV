{
  "nbformat": 4,
  "nbformat_minor": 0,
  "metadata": {
    "colab": {
      "provenance": [],
      "authorship_tag": "ABX9TyPeelkvVsUNVe48H8u20LMu",
      "include_colab_link": true
    },
    "kernelspec": {
      "name": "python3",
      "display_name": "Python 3"
    },
    "language_info": {
      "name": "python"
    }
  },
  "cells": [
    {
      "cell_type": "markdown",
      "metadata": {
        "id": "view-in-github",
        "colab_type": "text"
      },
      "source": [
        "<a href=\"https://colab.research.google.com/github/rvssridatta/OpenCV/blob/main/ContoursImage/ContoursImage.ipynb\" target=\"_parent\"><img src=\"https://colab.research.google.com/assets/colab-badge.svg\" alt=\"Open In Colab\"/></a>"
      ]
    },
    {
      "cell_type": "code",
      "execution_count": 15,
      "metadata": {
        "id": "W8iyUGlUI6UZ"
      },
      "outputs": [],
      "source": [
        "import cv2\n",
        "import numpy as np\n",
        "from google.colab.patches import cv2_imshow"
      ]
    },
    {
      "cell_type": "code",
      "source": [
        "img = cv2.imread(path, cv2.IMREAD_GRAYSCALE)\n"
      ],
      "metadata": {
        "id": "idNKtA6cKrc-"
      },
      "execution_count": 5,
      "outputs": []
    },
    {
      "cell_type": "code",
      "source": [
        "path = \"/content/boxy.JPG\"\n",
        "img = cv2.imread(path, cv2.IMREAD_GRAYSCALE)\n",
        "thresh, BW = cv2.threshold(img,50,255,cv2.THRESH_BINARY + cv2.THRESH_OTSU)\n",
        "contours, hierarchy = cv2.findContours(BW, cv2.RETR_EXTERNAL, cv2.CHAIN_APPROX_SIMPLE)\n",
        "temp = np.zeros((img.shape[0],img.shape[1],3),dtype = np.uint8)\n",
        "cv2.drawContours(temp,contours,-1,(0,0,255),1)\n",
        "cv2_imshow(img)\n",
        "cv2_imshow(temp)\n",
        "cv2.waitKey(0)\n",
        "cv2.destroyAllWindows()"
      ],
      "metadata": {
        "colab": {
          "base_uri": "https://localhost:8080/",
          "height": 559
        },
        "id": "HDI0MgbbLG2X",
        "outputId": "01e6de9a-4118-4efa-a118-8d39ddf87c71"
      },
      "execution_count": 20,
      "outputs": [
        {
          "output_type": "display_data",
          "data": {
            "text/plain": [
              "<PIL.Image.Image image mode=L size=507x271 at 0x7F244A29B100>"
            ],
            "image/png": "[encoded data removed]"
          },
          "metadata": {}
        },
        {
          "output_type": "display_data",
          "data": {
            "text/plain": [
              "<PIL.Image.Image image mode=RGB size=507x271 at 0x7F244A29B0A0>"
            ],
            "image/png": "[encoded data removed]"
          },
          "metadata": {}
        }
      ]
    },
    {
      "cell_type": "code",
      "source": [
        "try:\n",
        "  path = \"/content/boxy.JPG\"\n",
        "  img = cv2.imread(path, cv2.IMREAD_GRAYSCALE)\n",
        "  thresh, BW = cv2.threshold(img,50,255,cv2.THRESH_BINARY + cv2.THRESH_OTSU)\n",
        "  contours, hierarchy = cv2.findContours(BW, cv2.RETR_EXTERNAL, cv2.CHAIN_APPROX_SIMPLE)\n",
        "  temp = np.zeros((img.shape[0],img.shape[1],3),dtype = np.uint8)\n",
        "  cv2.drawContours(temp,contours,-1,(0,0,255),1)\n",
        "  cv2.imshow('Original Image',img)\n",
        "  cv2.imshow('Contours Drawn',img)\n",
        "  cv2.waitkey(0)\n",
        "  cv2.destroyAllWindows()\n",
        "except:\n",
        "  print('unable to read image.')"
      ],
      "metadata": {
        "colab": {
          "base_uri": "https://localhost:8080/"
        },
        "id": "LOKYRBwCJH8t",
        "outputId": "8833351a-5fc4-4e03-e845-87aac4058d35"
      },
      "execution_count": 11,
      "outputs": [
        {
          "output_type": "stream",
          "name": "stdout",
          "text": [
            "unable to read image.\n"
          ]
        }
      ]
    },
    {
      "cell_type": "code",
      "source": [],
      "metadata": {
        "id": "rQ0b4vTCJhl6"
      },
      "execution_count": null,
      "outputs": []
    }
  ]
}